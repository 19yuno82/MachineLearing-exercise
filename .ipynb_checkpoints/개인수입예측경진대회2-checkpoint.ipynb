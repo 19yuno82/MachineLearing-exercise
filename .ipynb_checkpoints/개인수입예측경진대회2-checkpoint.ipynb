{
 "cells": [
  {
   "cell_type": "markdown",
   "id": "4234db23",
   "metadata": {},
   "source": [
    "# 1.문제정의\n",
    "- 어떤 사람이 일년에 개인 수입 $50K 달러 초과인지 예측해보자"
   ]
  },
  {
   "cell_type": "markdown",
   "id": "841a9146",
   "metadata": {},
   "source": [
    "# 2. 데이터 수집\n",
    "- kaggle data"
   ]
  },
  {
   "cell_type": "code",
   "execution_count": 1,
   "id": "268c5da0",
   "metadata": {},
   "outputs": [],
   "source": [
    "import numpy as np\n",
    "import pandas as pd\n",
    "import seaborn as sns"
   ]
  },
  {
   "cell_type": "code",
   "execution_count": 2,
   "id": "deb6dedf",
   "metadata": {},
   "outputs": [],
   "source": [
    "train_data=pd.read_csv('./smhrd231218/train.csv')\n",
    "test_data=pd.read_csv('./smhrd231218/test.csv')"
   ]
  },
  {
   "cell_type": "markdown",
   "id": "3fe8c263",
   "metadata": {},
   "source": [
    "# 3.데이터 전처리"
   ]
  },
  {
   "cell_type": "code",
   "execution_count": 7,
   "id": "ca5ceb8a",
   "metadata": {},
   "outputs": [
    {
     "data": {
      "text/plain": [
       "(Index(['no', 'age', 'workclass', 'fnlwgt', 'education', 'education-num',\n",
       "        'marital-status', 'occupation', 'relationship', 'race', 'sex',\n",
       "        'capital-gain', 'capital-loss', 'hours-per-week', 'native-country',\n",
       "        'income'],\n",
       "       dtype='object'),\n",
       " Index(['no', 'age', 'workclass', 'fnlwgt', 'education', 'education-num',\n",
       "        'marital-status', 'occupation', 'relationship', 'race', 'sex',\n",
       "        'capital-gain', 'capital-loss', 'hours-per-week', 'native-country'],\n",
       "       dtype='object'))"
      ]
     },
     "execution_count": 7,
     "metadata": {},
     "output_type": "execute_result"
    }
   ],
   "source": [
    "train_data.columns, test_data.columns"
   ]
  },
  {
   "cell_type": "code",
   "execution_count": 8,
   "id": "c75f958c",
   "metadata": {},
   "outputs": [],
   "source": [
    "#문제데이터(X)와 정답데이터(y) 분류\n",
    "X= train_data.loc[:,'age':'native-country']\n",
    "y=train_data['income']"
   ]
  },
  {
   "cell_type": "code",
   "execution_count": 11,
   "id": "72fcf54d",
   "metadata": {},
   "outputs": [],
   "source": [
    "#문제데이터와 테스트데이터 일치 작업\n",
    "X_test=test_data.loc[:,'age':'native-country']"
   ]
  },
  {
   "cell_type": "code",
   "execution_count": null,
   "id": "03702b58",
   "metadata": {},
   "outputs": [],
   "source": [
    "# no : 고유 번호\n",
    "# age: 나이\n",
    "# workclass: 고용 형태\n",
    "# fnlwgt: CPS(Current Population Survey) 가중치\n",
    "# education: 최종 학력\n",
    "# education_num: 교육 수준을 숫자로 범주화\n",
    "# marital_status: 결혼 여부\n",
    "# occupation: 직업\n",
    "# relationship: 가정 내 관계\n",
    "# race: 인종\n",
    "# sex: 성별\n",
    "# capital_gain: 자본 이익\n",
    "# capital_loss: 자본 손실\n",
    "# hours_per_week: 주당 근무시간\n",
    "# native_country: 출신 국가"
   ]
  },
  {
   "cell_type": "code",
   "execution_count": 12,
   "id": "73dd8296",
   "metadata": {},
   "outputs": [
    {
     "data": {
      "text/plain": [
       "(Index(['age', 'workclass', 'fnlwgt', 'education', 'education-num',\n",
       "        'marital-status', 'occupation', 'relationship', 'race', 'sex',\n",
       "        'capital-gain', 'capital-loss', 'hours-per-week', 'native-country'],\n",
       "       dtype='object'),\n",
       " Index(['age', 'workclass', 'fnlwgt', 'education', 'education-num',\n",
       "        'marital-status', 'occupation', 'relationship', 'race', 'sex',\n",
       "        'capital-gain', 'capital-loss', 'hours-per-week', 'native-country'],\n",
       "       dtype='object'))"
      ]
     },
     "execution_count": 12,
     "metadata": {},
     "output_type": "execute_result"
    }
   ],
   "source": [
    "X.columns, X_test.columns"
   ]
  },
  {
   "cell_type": "code",
   "execution_count": 20,
   "id": "94d998fa",
   "metadata": {},
   "outputs": [
    {
     "data": {
      "text/plain": [
       "array([' Private', ' Private', ' Private', ..., ' Self-emp-not-inc',\n",
       "       ' Private', ' ?'], dtype=object)"
      ]
     },
     "execution_count": 20,
     "metadata": {},
     "output_type": "execute_result"
    }
   ],
   "source": [
    "X['workclass'].values"
   ]
  },
  {
   "cell_type": "code",
   "execution_count": 26,
   "id": "28a4fc1c",
   "metadata": {
    "collapsed": true
   },
   "outputs": [
    {
     "data": {
      "text/plain": [
       " Prof-specialty       3724\n",
       " Craft-repair         3632\n",
       " Exec-managerial      3609\n",
       " Adm-clerical         3440\n",
       " Sales                3292\n",
       " Other-service        2975\n",
       " Machine-op-inspct    1811\n",
       " ?                    1668\n",
       " Transport-moving     1393\n",
       " Handlers-cleaners    1249\n",
       " Farming-fishing       888\n",
       " Tech-support          865\n",
       " Protective-serv       603\n",
       " Priv-house-serv       146\n",
       " Armed-Forces           10\n",
       "Name: occupation, dtype: int64"
      ]
     },
     "execution_count": 26,
     "metadata": {},
     "output_type": "execute_result"
    }
   ],
   "source": [
    "X['occupation'].value_counts()"
   ]
  },
  {
   "cell_type": "code",
   "execution_count": 40,
   "id": "bae940a5",
   "metadata": {},
   "outputs": [],
   "source": [
    "#문자열 공백 제거 작업\n",
    "X['workclass']=X['workclass'].str.strip()\n",
    "X['occupation']=X['occupation'].str.strip()\n",
    "X_test['workclass']=X_test['workclass'].str.strip()\n",
    "X_test['occupation']=X_test['occupation'].str.strip()"
   ]
  },
  {
   "cell_type": "code",
   "execution_count": 41,
   "id": "65129abd",
   "metadata": {
    "collapsed": true
   },
   "outputs": [
    {
     "data": {
      "text/plain": [
       "19       16\n",
       "20       30\n",
       "24       20\n",
       "37       15\n",
       "47       12\n",
       "         ..\n",
       "29244    40\n",
       "29247    40\n",
       "29280    15\n",
       "29286    20\n",
       "29304    40\n",
       "Name: hours-per-week, Length: 1668, dtype: int64"
      ]
     },
     "execution_count": 41,
     "metadata": {},
     "output_type": "execute_result"
    }
   ],
   "source": [
    "X[X['occupation']=='?']['hours-per-week']"
   ]
  },
  {
   "cell_type": "code",
   "execution_count": 43,
   "id": "d28f3b1e",
   "metadata": {},
   "outputs": [],
   "source": [
    "# 이상치 ? 처리 => 그대로 두고 진행해보자\n",
    "#컬럼 제거\n",
    "del X['education']\n",
    "del X['relationship']"
   ]
  },
  {
   "cell_type": "code",
   "execution_count": 44,
   "id": "11ff5214",
   "metadata": {},
   "outputs": [],
   "source": [
    "del X_test['education']\n",
    "del X_test['relationship']"
   ]
  },
  {
   "cell_type": "code",
   "execution_count": 48,
   "id": "563f2945",
   "metadata": {},
   "outputs": [
    {
     "name": "stdout",
     "output_type": "stream",
     "text": [
      "<class 'pandas.core.frame.DataFrame'>\n",
      "RangeIndex: 29305 entries, 0 to 29304\n",
      "Data columns (total 12 columns):\n",
      " #   Column          Non-Null Count  Dtype \n",
      "---  ------          --------------  ----- \n",
      " 0   age             29305 non-null  int64 \n",
      " 1   workclass       29305 non-null  object\n",
      " 2   fnlwgt          29305 non-null  int64 \n",
      " 3   education-num   29305 non-null  int64 \n",
      " 4   marital-status  29305 non-null  object\n",
      " 5   occupation      29305 non-null  object\n",
      " 6   race            29305 non-null  object\n",
      " 7   sex             29305 non-null  object\n",
      " 8   capital-gain    29305 non-null  int64 \n",
      " 9   capital-loss    29305 non-null  int64 \n",
      " 10  hours-per-week  29305 non-null  int64 \n",
      " 11  native-country  29305 non-null  object\n",
      "dtypes: int64(6), object(6)\n",
      "memory usage: 2.7+ MB\n",
      "<class 'pandas.core.frame.DataFrame'>\n",
      "RangeIndex: 19537 entries, 0 to 19536\n",
      "Data columns (total 12 columns):\n",
      " #   Column          Non-Null Count  Dtype \n",
      "---  ------          --------------  ----- \n",
      " 0   age             19537 non-null  int64 \n",
      " 1   workclass       19537 non-null  object\n",
      " 2   fnlwgt          19537 non-null  int64 \n",
      " 3   education-num   19537 non-null  int64 \n",
      " 4   marital-status  19537 non-null  object\n",
      " 5   occupation      19537 non-null  object\n",
      " 6   race            19537 non-null  object\n",
      " 7   sex             19537 non-null  object\n",
      " 8   capital-gain    19537 non-null  int64 \n",
      " 9   capital-loss    19537 non-null  int64 \n",
      " 10  hours-per-week  19537 non-null  int64 \n",
      " 11  native-country  19537 non-null  object\n",
      "dtypes: int64(6), object(6)\n",
      "memory usage: 1.8+ MB\n"
     ]
    },
    {
     "data": {
      "text/plain": [
       "(None, None)"
      ]
     },
     "execution_count": 48,
     "metadata": {},
     "output_type": "execute_result"
    }
   ],
   "source": [
    "X.info(),X_test.info()"
   ]
  },
  {
   "cell_type": "code",
   "execution_count": 49,
   "id": "8b89a895",
   "metadata": {},
   "outputs": [
    {
     "data": {
      "text/plain": [
       "Index(['age', 'workclass', 'fnlwgt', 'education-num', 'marital-status',\n",
       "       'occupation', 'race', 'sex', 'capital-gain', 'capital-loss',\n",
       "       'hours-per-week', 'native-country'],\n",
       "      dtype='object')"
      ]
     },
     "execution_count": 49,
     "metadata": {},
     "output_type": "execute_result"
    }
   ],
   "source": [
    "#원핫인코딩 동일하게 적용\n",
    "data=pd.concat([X,X_test],axis=0,ignore_index=True)\n",
    "data.columns"
   ]
  },
  {
   "cell_type": "code",
   "execution_count": 46,
   "id": "bacc8442",
   "metadata": {},
   "outputs": [
    {
     "data": {
      "text/plain": [
       "Index(['age', 'workclass', 'fnlwgt', 'education-num', 'marital-status',\n",
       "       'occupation', 'race', 'sex', 'capital-gain', 'capital-loss',\n",
       "       'hours-per-week', 'native-country'],\n",
       "      dtype='object')"
      ]
     },
     "execution_count": 46,
     "metadata": {},
     "output_type": "execute_result"
    }
   ],
   "source": []
  },
  {
   "cell_type": "code",
   "execution_count": 50,
   "id": "7faf6704",
   "metadata": {},
   "outputs": [
    {
     "data": {
      "text/plain": [
       "(48842, 80)"
      ]
     },
     "execution_count": 50,
     "metadata": {},
     "output_type": "execute_result"
    }
   ],
   "source": [
    "#one_hot_encoding\n",
    "category=data[['workclass','marital-status','occupation','race','sex','native-country']]\n",
    "one_hot=pd.get_dummies(category)\n",
    "one_hot.shape"
   ]
  },
  {
   "cell_type": "code",
   "execution_count": 53,
   "id": "edc4ae06",
   "metadata": {},
   "outputs": [
    {
     "data": {
      "text/plain": [
       "(48842, 87)"
      ]
     },
     "execution_count": 53,
     "metadata": {},
     "output_type": "execute_result"
    }
   ],
   "source": [
    "one_hot_data=pd.concat([data[['age','fnlwgt', 'education-num',\n",
    "                              'occupation','capital-gain','capital-loss','hours-per-week']],one_hot],\n",
    "                        axis=1,ignore_index=True)\n",
    "one_hot_data.shape"
   ]
  },
  {
   "cell_type": "code",
   "execution_count": 54,
   "id": "649ebaae",
   "metadata": {},
   "outputs": [],
   "source": [
    "X_train=one_hot_data.iloc[ :29305,: ]\n",
    "X_test=one_hot_data.iloc[29305: , : ]"
   ]
  },
  {
   "cell_type": "code",
   "execution_count": null,
   "id": "d710771d",
   "metadata": {},
   "outputs": [],
   "source": [
    "#데이터 전처리\n",
    "# 이상치 ? 그대로\n",
    "# education, re1ataionship 삭제"
   ]
  },
  {
   "cell_type": "markdown",
   "id": "9af77859",
   "metadata": {},
   "source": [
    "# 5.모델 선택 및 하이퍼파라미터 튜닝"
   ]
  },
  {
   "cell_type": "code",
   "execution_count": null,
   "id": "41a80cf5",
   "metadata": {},
   "outputs": [],
   "source": [
    "from sklearn.ensemble import RandomForestClassifier,AdaBoostClassifier,GradientBoostingClassifier\n",
    "#하이퍼파라미터 튜닝\n",
    "from sklearn.model_selection import GridSearchCV\n",
    "#교차검증\n",
    "from sklearn.model_selection import cross_val_score"
   ]
  },
  {
   "cell_type": "code",
   "execution_count": null,
   "id": "33b25653",
   "metadata": {},
   "outputs": [],
   "source": []
  },
  {
   "cell_type": "code",
   "execution_count": null,
   "id": "d4b835bc",
   "metadata": {},
   "outputs": [],
   "source": []
  },
  {
   "cell_type": "code",
   "execution_count": null,
   "id": "3555c736",
   "metadata": {},
   "outputs": [],
   "source": []
  },
  {
   "cell_type": "code",
   "execution_count": null,
   "id": "47f684fb",
   "metadata": {},
   "outputs": [],
   "source": []
  },
  {
   "cell_type": "code",
   "execution_count": null,
   "id": "5ffb98ae",
   "metadata": {},
   "outputs": [],
   "source": []
  }
 ],
 "metadata": {
  "kernelspec": {
   "display_name": "Python 3 (ipykernel)",
   "language": "python",
   "name": "python3"
  },
  "language_info": {
   "codemirror_mode": {
    "name": "ipython",
    "version": 3
   },
   "file_extension": ".py",
   "mimetype": "text/x-python",
   "name": "python",
   "nbconvert_exporter": "python",
   "pygments_lexer": "ipython3",
   "version": "3.11.4"
  }
 },
 "nbformat": 4,
 "nbformat_minor": 5
}
