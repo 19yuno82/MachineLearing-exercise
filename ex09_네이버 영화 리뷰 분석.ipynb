{
 "cells": [
  {
   "cell_type": "code",
   "execution_count": 1,
   "id": "4e1c93bb-c232-44f6-8e86-18cee2093f6a",
   "metadata": {
    "scrolled": true
   },
   "outputs": [],
   "source": [
    "#!pip install JPype1-1.1.2-cp38-cp38-win_amd64.whl"
   ]
  },
  {
   "cell_type": "code",
   "execution_count": 2,
   "id": "f1c32813-b873-41fd-b758-95e6432f876e",
   "metadata": {},
   "outputs": [],
   "source": [
    "#한글 형태소 분류기\n",
    "#!pip install konlpy"
   ]
  },
  {
   "cell_type": "code",
   "execution_count": 3,
   "id": "8d98eb08-3476-43d1-ac04-bed9d82d0323",
   "metadata": {},
   "outputs": [],
   "source": [
    "from konlpy.tag import Okt,Kkma"
   ]
  },
  {
   "cell_type": "code",
   "execution_count": 4,
   "id": "ef8d1ee6-1502-458b-9d77-07f4053b56e0",
   "metadata": {},
   "outputs": [],
   "source": [
    "okt=Okt()\n",
    "kkma=Kkma()"
   ]
  },
  {
   "cell_type": "code",
   "execution_count": 5,
   "id": "e6be8720-95b9-473e-8bd9-869d468a9d30",
   "metadata": {},
   "outputs": [
    {
     "data": {
      "text/plain": [
       "['아버지', '가방', '에', '들어가신다']"
      ]
     },
     "execution_count": 5,
     "metadata": {},
     "output_type": "execute_result"
    }
   ],
   "source": [
    "okt.morphs('아버지가방에들어가신다')"
   ]
  },
  {
   "cell_type": "code",
   "execution_count": 6,
   "id": "f5539da6-23f2-42f1-a4d2-d54c9ead679f",
   "metadata": {},
   "outputs": [
    {
     "data": {
      "text/plain": [
       "{'Adjective': '형용사',\n",
       " 'Adverb': '부사',\n",
       " 'Alpha': '알파벳',\n",
       " 'Conjunction': '접속사',\n",
       " 'Determiner': '관형사',\n",
       " 'Eomi': '어미',\n",
       " 'Exclamation': '감탄사',\n",
       " 'Foreign': '외국어, 한자 및 기타기호',\n",
       " 'Hashtag': '트위터 해쉬태그',\n",
       " 'Josa': '조사',\n",
       " 'KoreanParticle': '(ex: ㅋㅋ)',\n",
       " 'Noun': '명사',\n",
       " 'Number': '숫자',\n",
       " 'PreEomi': '선어말어미',\n",
       " 'Punctuation': '구두점',\n",
       " 'ScreenName': '트위터 아이디',\n",
       " 'Suffix': '접미사',\n",
       " 'Unknown': '미등록어',\n",
       " 'Verb': '동사'}"
      ]
     },
     "execution_count": 6,
     "metadata": {},
     "output_type": "execute_result"
    }
   ],
   "source": [
    "okt.tagset"
   ]
  },
  {
   "cell_type": "code",
   "execution_count": 7,
   "id": "029c7370-4bcb-4528-89e8-cf6834b95b8e",
   "metadata": {},
   "outputs": [
    {
     "data": {
      "text/plain": [
       "['아버지', '가방', '에', '들어가', '시', 'ㄴ다']"
      ]
     },
     "execution_count": 7,
     "metadata": {},
     "output_type": "execute_result"
    }
   ],
   "source": [
    "kkma.morphs('아버지가방에들어가신다')"
   ]
  },
  {
   "cell_type": "code",
   "execution_count": 8,
   "id": "d5e9016e-6da9-49be-a750-4ca787a33a0f",
   "metadata": {},
   "outputs": [
    {
     "data": {
      "text/plain": [
       "{'EC': '연결 어미',\n",
       " 'ECD': '의존적 연결 어미',\n",
       " 'ECE': '대등 연결 어미',\n",
       " 'ECS': '보조적 연결 어미',\n",
       " 'EF': '종결 어미',\n",
       " 'EFA': '청유형 종결 어미',\n",
       " 'EFI': '감탄형 종결 어미',\n",
       " 'EFN': '평서형 종결 어미',\n",
       " 'EFO': '명령형 종결 어미',\n",
       " 'EFQ': '의문형 종결 어미',\n",
       " 'EFR': '존칭형 종결 어미',\n",
       " 'EP': '선어말 어미',\n",
       " 'EPH': '존칭 선어말 어미',\n",
       " 'EPP': '공손 선어말 어미',\n",
       " 'EPT': '시제 선어말 어미',\n",
       " 'ET': '전성 어미',\n",
       " 'ETD': '관형형 전성 어미',\n",
       " 'ETN': '명사형 전성 어미',\n",
       " 'IC': '감탄사',\n",
       " 'JC': '접속 조사',\n",
       " 'JK': '조사',\n",
       " 'JKC': '보격 조사',\n",
       " 'JKG': '관형격 조사',\n",
       " 'JKI': '호격 조사',\n",
       " 'JKM': '부사격 조사',\n",
       " 'JKO': '목적격 조사',\n",
       " 'JKQ': '인용격 조사',\n",
       " 'JKS': '주격 조사',\n",
       " 'JX': '보조사',\n",
       " 'MA': '부사',\n",
       " 'MAC': '접속 부사',\n",
       " 'MAG': '일반 부사',\n",
       " 'MD': '관형사',\n",
       " 'MDN': '수 관형사',\n",
       " 'MDT': '일반 관형사',\n",
       " 'NN': '명사',\n",
       " 'NNB': '일반 의존 명사',\n",
       " 'NNG': '보통명사',\n",
       " 'NNM': '단위 의존 명사',\n",
       " 'NNP': '고유명사',\n",
       " 'NP': '대명사',\n",
       " 'NR': '수사',\n",
       " 'OH': '한자',\n",
       " 'OL': '외국어',\n",
       " 'ON': '숫자',\n",
       " 'SE': '줄임표',\n",
       " 'SF': '마침표, 물음표, 느낌표',\n",
       " 'SO': '붙임표(물결,숨김,빠짐)',\n",
       " 'SP': '쉼표,가운뎃점,콜론,빗금',\n",
       " 'SS': '따옴표,괄호표,줄표',\n",
       " 'SW': '기타기호 (논리수학기호,화폐기호)',\n",
       " 'UN': '명사추정범주',\n",
       " 'VA': '형용사',\n",
       " 'VC': '지정사',\n",
       " 'VCN': \"부정 지정사, 형용사 '아니다'\",\n",
       " 'VCP': \"긍정 지정사, 서술격 조사 '이다'\",\n",
       " 'VV': '동사',\n",
       " 'VX': '보조 용언',\n",
       " 'VXA': '보조 형용사',\n",
       " 'VXV': '보조 동사',\n",
       " 'XP': '접두사',\n",
       " 'XPN': '체언 접두사',\n",
       " 'XPV': '용언 접두사',\n",
       " 'XR': '어근',\n",
       " 'XSA': '형용사 파생 접미사',\n",
       " 'XSN': '명사파생 접미사',\n",
       " 'XSV': '동사 파생 접미사'}"
      ]
     },
     "execution_count": 8,
     "metadata": {},
     "output_type": "execute_result"
    }
   ],
   "source": [
    "kkma.tagset"
   ]
  },
  {
   "cell_type": "code",
   "execution_count": null,
   "id": "feebe3c0-c4ae-4620-9737-ebed4382ae69",
   "metadata": {},
   "outputs": [],
   "source": [
    "#기존방법\n",
    "#BOW(countVaxctorizer)를 사용해서 글자의 빈도를 세어서 사용\n",
    "#띄어쓰기를 기준으로 글자를 나눴다"
   ]
  },
  {
   "cell_type": "code",
   "execution_count": null,
   "id": "c0607996-d411-42e7-baf5-f7d94fc6d3e5",
   "metadata": {},
   "outputs": [],
   "source": [
    "#기존방법 + konlpy(한글 형태소 분류기)\n",
    "#BOW(countVaxctorizer)를 사용해서 글자의 빈도를 세어서 사용\n",
    "#konlpy를 기준으로 글자를 나눈다"
   ]
  },
  {
   "cell_type": "code",
   "execution_count": 9,
   "id": "95a052a2-b356-40b5-8f54-5eff5722fb1b",
   "metadata": {},
   "outputs": [],
   "source": [
    "from sklearn.feature_extraction.text import CountVectorizer\n",
    "from konlpy.tag import Okt"
   ]
  },
  {
   "cell_type": "code",
   "execution_count": 11,
   "id": "15ecde29-f084-4c4f-b1d8-a7c01659e2bb",
   "metadata": {},
   "outputs": [],
   "source": [
    "text = [\n",
    "    '수고했어요~ 날 추우니까 다들 따뜻하게 입고다니고 집에 조심히들 가요~',\n",
    "    '그리고 지각 그만해요 이번주 지각 자들은 목요일에 나랑 이야기할꺼니까~',\n",
    "    '다들 종례 시트 확인하시고 당번들은 잘진행하세용~'    \n",
    "]"
   ]
  },
  {
   "cell_type": "code",
   "execution_count": 10,
   "id": "03b1644e-3a0e-412e-b0ff-e83b9f232eef",
   "metadata": {},
   "outputs": [],
   "source": [
    "textBow=CountVectorizer()\n",
    "okt=Okt()"
   ]
  },
  {
   "cell_type": "code",
   "execution_count": 12,
   "id": "46a046da-4409-4770-8a81-d3e5b356aa90",
   "metadata": {},
   "outputs": [
    {
     "data": {
      "text/html": [
       "<style>#sk-container-id-1 {color: black;}#sk-container-id-1 pre{padding: 0;}#sk-container-id-1 div.sk-toggleable {background-color: white;}#sk-container-id-1 label.sk-toggleable__label {cursor: pointer;display: block;width: 100%;margin-bottom: 0;padding: 0.3em;box-sizing: border-box;text-align: center;}#sk-container-id-1 label.sk-toggleable__label-arrow:before {content: \"▸\";float: left;margin-right: 0.25em;color: #696969;}#sk-container-id-1 label.sk-toggleable__label-arrow:hover:before {color: black;}#sk-container-id-1 div.sk-estimator:hover label.sk-toggleable__label-arrow:before {color: black;}#sk-container-id-1 div.sk-toggleable__content {max-height: 0;max-width: 0;overflow: hidden;text-align: left;background-color: #f0f8ff;}#sk-container-id-1 div.sk-toggleable__content pre {margin: 0.2em;color: black;border-radius: 0.25em;background-color: #f0f8ff;}#sk-container-id-1 input.sk-toggleable__control:checked~div.sk-toggleable__content {max-height: 200px;max-width: 100%;overflow: auto;}#sk-container-id-1 input.sk-toggleable__control:checked~label.sk-toggleable__label-arrow:before {content: \"▾\";}#sk-container-id-1 div.sk-estimator input.sk-toggleable__control:checked~label.sk-toggleable__label {background-color: #d4ebff;}#sk-container-id-1 div.sk-label input.sk-toggleable__control:checked~label.sk-toggleable__label {background-color: #d4ebff;}#sk-container-id-1 input.sk-hidden--visually {border: 0;clip: rect(1px 1px 1px 1px);clip: rect(1px, 1px, 1px, 1px);height: 1px;margin: -1px;overflow: hidden;padding: 0;position: absolute;width: 1px;}#sk-container-id-1 div.sk-estimator {font-family: monospace;background-color: #f0f8ff;border: 1px dotted black;border-radius: 0.25em;box-sizing: border-box;margin-bottom: 0.5em;}#sk-container-id-1 div.sk-estimator:hover {background-color: #d4ebff;}#sk-container-id-1 div.sk-parallel-item::after {content: \"\";width: 100%;border-bottom: 1px solid gray;flex-grow: 1;}#sk-container-id-1 div.sk-label:hover label.sk-toggleable__label {background-color: #d4ebff;}#sk-container-id-1 div.sk-serial::before {content: \"\";position: absolute;border-left: 1px solid gray;box-sizing: border-box;top: 0;bottom: 0;left: 50%;z-index: 0;}#sk-container-id-1 div.sk-serial {display: flex;flex-direction: column;align-items: center;background-color: white;padding-right: 0.2em;padding-left: 0.2em;position: relative;}#sk-container-id-1 div.sk-item {position: relative;z-index: 1;}#sk-container-id-1 div.sk-parallel {display: flex;align-items: stretch;justify-content: center;background-color: white;position: relative;}#sk-container-id-1 div.sk-item::before, #sk-container-id-1 div.sk-parallel-item::before {content: \"\";position: absolute;border-left: 1px solid gray;box-sizing: border-box;top: 0;bottom: 0;left: 50%;z-index: -1;}#sk-container-id-1 div.sk-parallel-item {display: flex;flex-direction: column;z-index: 1;position: relative;background-color: white;}#sk-container-id-1 div.sk-parallel-item:first-child::after {align-self: flex-end;width: 50%;}#sk-container-id-1 div.sk-parallel-item:last-child::after {align-self: flex-start;width: 50%;}#sk-container-id-1 div.sk-parallel-item:only-child::after {width: 0;}#sk-container-id-1 div.sk-dashed-wrapped {border: 1px dashed gray;margin: 0 0.4em 0.5em 0.4em;box-sizing: border-box;padding-bottom: 0.4em;background-color: white;}#sk-container-id-1 div.sk-label label {font-family: monospace;font-weight: bold;display: inline-block;line-height: 1.2em;}#sk-container-id-1 div.sk-label-container {text-align: center;}#sk-container-id-1 div.sk-container {/* jupyter's `normalize.less` sets `[hidden] { display: none; }` but bootstrap.min.css set `[hidden] { display: none !important; }` so we also need the `!important` here to be able to override the default hidden behavior on the sphinx rendered scikit-learn.org. See: https://github.com/scikit-learn/scikit-learn/issues/21755 */display: inline-block !important;position: relative;}#sk-container-id-1 div.sk-text-repr-fallback {display: none;}</style><div id=\"sk-container-id-1\" class=\"sk-top-container\"><div class=\"sk-text-repr-fallback\"><pre>CountVectorizer()</pre><b>In a Jupyter environment, please rerun this cell to show the HTML representation or trust the notebook. <br />On GitHub, the HTML representation is unable to render, please try loading this page with nbviewer.org.</b></div><div class=\"sk-container\" hidden><div class=\"sk-item\"><div class=\"sk-estimator sk-toggleable\"><input class=\"sk-toggleable__control sk-hidden--visually\" id=\"sk-estimator-id-1\" type=\"checkbox\" checked><label for=\"sk-estimator-id-1\" class=\"sk-toggleable__label sk-toggleable__label-arrow\">CountVectorizer</label><div class=\"sk-toggleable__content\"><pre>CountVectorizer()</pre></div></div></div></div></div>"
      ],
      "text/plain": [
       "CountVectorizer()"
      ]
     },
     "execution_count": 12,
     "metadata": {},
     "output_type": "execute_result"
    }
   ],
   "source": [
    "textBow.fit(text)"
   ]
  },
  {
   "cell_type": "code",
   "execution_count": 13,
   "id": "3af9251c-0128-4403-85e4-174a35f79e93",
   "metadata": {},
   "outputs": [
    {
     "data": {
      "text/plain": [
       "{'수고했어요': 8,\n",
       " '추우니까': 19,\n",
       " '다들': 4,\n",
       " '따뜻하게': 6,\n",
       " '입고다니고': 12,\n",
       " '집에': 18,\n",
       " '조심히들': 15,\n",
       " '가요': 0,\n",
       " '그리고': 1,\n",
       " '지각': 17,\n",
       " '그만해요': 2,\n",
       " '이번주': 10,\n",
       " '자들은': 13,\n",
       " '목요일에': 7,\n",
       " '나랑': 3,\n",
       " '이야기할꺼니까': 11,\n",
       " '종례': 16,\n",
       " '시트': 9,\n",
       " '확인하시고': 20,\n",
       " '당번들은': 5,\n",
       " '잘진행하세용': 14}"
      ]
     },
     "execution_count": 13,
     "metadata": {},
     "output_type": "execute_result"
    }
   ],
   "source": [
    "#Bow만 사용해서 단어사전 구축하기\n",
    "textBow.vocabulary_"
   ]
  },
  {
   "cell_type": "code",
   "execution_count": 17,
   "id": "32f515f9-372d-4d11-a0df-c645ab519783",
   "metadata": {},
   "outputs": [],
   "source": [
    "#okt로 형태소 분류하기\n",
    "def myTokenizer(text):\n",
    "    #모든 형태소 구분하기\n",
    "    #return okt.morphs(text)\n",
    "    #명사만 추출하기\n",
    "    return okt.nouns(text)\n",
    "\n",
    "#okt+bow\n",
    "test_bow_okt=CountVectorizer(tokenizer=myTokenizer)"
   ]
  },
  {
   "cell_type": "code",
   "execution_count": 18,
   "id": "e8853a86-fd63-451e-b76c-d43db9436252",
   "metadata": {},
   "outputs": [
    {
     "name": "stderr",
     "output_type": "stream",
     "text": [
      "C:\\Users\\smhrd\\anaconda3\\envs\\konlpy\\lib\\site-packages\\sklearn\\feature_extraction\\text.py:525: UserWarning: The parameter 'token_pattern' will not be used since 'tokenizer' is not None'\n",
      "  warnings.warn(\n"
     ]
    },
    {
     "data": {
      "text/plain": [
       "{'수고': 6,\n",
       " '날': 2,\n",
       " '집': 16,\n",
       " '조심': 11,\n",
       " '가요': 0,\n",
       " '지각': 14,\n",
       " '이번': 8,\n",
       " '주': 13,\n",
       " '자': 10,\n",
       " '목요일': 4,\n",
       " '나': 1,\n",
       " '이야기': 9,\n",
       " '종례': 12,\n",
       " '시트': 7,\n",
       " '확인': 17,\n",
       " '당번': 3,\n",
       " '진행': 15,\n",
       " '세용': 5}"
      ]
     },
     "execution_count": 18,
     "metadata": {},
     "output_type": "execute_result"
    }
   ],
   "source": [
    "test_bow_okt.fit(text)\n",
    "#okt + bow 의 단어사전\n",
    "test_bow_okt.vocabulary_"
   ]
  },
  {
   "cell_type": "markdown",
   "id": "f1390f5e-96a6-472e-886b-24a68d17d627",
   "metadata": {},
   "source": [
    "# 1.문제정의\n",
    "- 네이버 영화리뷰 데이터셋\n",
    "- 긍정과 부정을 구분하기\n",
    "- 긍정/부정을 판단하는데 많은 영향을 끼치는 단어 시각화\n",
    "- Bow 말고 다른 토큰화 방법 사용해보기"
   ]
  },
  {
   "cell_type": "markdown",
   "id": "887c0f1d-3843-4a0d-b624-8e5e3ddf160a",
   "metadata": {},
   "source": [
    "# 2.데이터수집"
   ]
  },
  {
   "cell_type": "code",
   "execution_count": 20,
   "id": "fcd37809-6356-4c4f-93cc-a40e7f8867b0",
   "metadata": {},
   "outputs": [],
   "source": [
    "import pandas as pd\n",
    "import numpy as np"
   ]
  },
  {
   "cell_type": "code",
   "execution_count": 64,
   "id": "c09deec8-009b-4fc1-afe6-cc54c270860a",
   "metadata": {},
   "outputs": [],
   "source": [
    "text_train=pd.read_csv('./ratings_train.txt',delimiter='\\t')\n",
    "text_test=pd.read_csv('./ratings_test.txt',delimiter='\\t')"
   ]
  },
  {
   "cell_type": "code",
   "execution_count": 65,
   "id": "bc914f3b-665b-484c-a80f-b832207f6370",
   "metadata": {},
   "outputs": [
    {
     "data": {
      "text/plain": [
       "((150000, 3), (50000, 3))"
      ]
     },
     "execution_count": 65,
     "metadata": {},
     "output_type": "execute_result"
    }
   ],
   "source": [
    "text_train.shape, text_test.shape"
   ]
  },
  {
   "cell_type": "markdown",
   "id": "733abd18-c417-40ac-a5a8-d8055253fa44",
   "metadata": {},
   "source": [
    "# 3.데이터 전처리"
   ]
  },
  {
   "cell_type": "code",
   "execution_count": 66,
   "id": "75332d36-ee07-45c9-b925-c8425b40f002",
   "metadata": {},
   "outputs": [
    {
     "name": "stdout",
     "output_type": "stream",
     "text": [
      "<class 'pandas.core.frame.DataFrame'>\n",
      "RangeIndex: 150000 entries, 0 to 149999\n",
      "Data columns (total 3 columns):\n",
      " #   Column    Non-Null Count   Dtype \n",
      "---  ------    --------------   ----- \n",
      " 0   id        150000 non-null  int64 \n",
      " 1   document  149995 non-null  object\n",
      " 2   label     150000 non-null  int64 \n",
      "dtypes: int64(2), object(1)\n",
      "memory usage: 3.4+ MB\n"
     ]
    }
   ],
   "source": [
    "text_train.info()"
   ]
  },
  {
   "cell_type": "code",
   "execution_count": 67,
   "id": "b4a48533-963b-48a0-9b23-51766e4b70c7",
   "metadata": {},
   "outputs": [
    {
     "name": "stdout",
     "output_type": "stream",
     "text": [
      "<class 'pandas.core.frame.DataFrame'>\n",
      "RangeIndex: 50000 entries, 0 to 49999\n",
      "Data columns (total 3 columns):\n",
      " #   Column    Non-Null Count  Dtype \n",
      "---  ------    --------------  ----- \n",
      " 0   id        50000 non-null  int64 \n",
      " 1   document  49997 non-null  object\n",
      " 2   label     50000 non-null  int64 \n",
      "dtypes: int64(2), object(1)\n",
      "memory usage: 1.1+ MB\n"
     ]
    }
   ],
   "source": [
    "text_test.info()"
   ]
  },
  {
   "cell_type": "code",
   "execution_count": 25,
   "id": "b6dd58c2-4e18-440f-96de-2603fceeb879",
   "metadata": {},
   "outputs": [],
   "source": [
    "#train > 5개의 결측치 제거\n",
    "#test > 3개의 결측치 제거\n",
    "text_train.dropna(inplace=True)\n",
    "text_test.dropna(inplace=True)"
   ]
  },
  {
   "cell_type": "code",
   "execution_count": 68,
   "id": "5a1f4d1e-a1f5-4d0e-83a7-641a5693460c",
   "metadata": {},
   "outputs": [
    {
     "name": "stdout",
     "output_type": "stream",
     "text": [
      "<class 'pandas.core.frame.DataFrame'>\n",
      "RangeIndex: 150000 entries, 0 to 149999\n",
      "Data columns (total 3 columns):\n",
      " #   Column    Non-Null Count   Dtype \n",
      "---  ------    --------------   ----- \n",
      " 0   id        150000 non-null  int64 \n",
      " 1   document  149995 non-null  object\n",
      " 2   label     150000 non-null  int64 \n",
      "dtypes: int64(2), object(1)\n",
      "memory usage: 3.4+ MB\n"
     ]
    }
   ],
   "source": [
    "#추가적인 전처리를 진행한다고 하면\n",
    "#정규표현식을 사용해서 한글만 남기기\n",
    "text_train.info()"
   ]
  },
  {
   "cell_type": "code",
   "execution_count": 27,
   "id": "6da5f06f-6430-4a8c-bf92-2a7a27014729",
   "metadata": {},
   "outputs": [],
   "source": [
    "X_train = text_train['document'][:10000]\n",
    "y_train=text_train['label'][:10000]\n",
    "X_test=text_test['document'][:2000]\n",
    "y_test=text_test['label'][:2000]"
   ]
  },
  {
   "cell_type": "code",
   "execution_count": 28,
   "id": "fcd1f402-2169-4d32-b45b-7f7c9fb19c46",
   "metadata": {},
   "outputs": [
    {
     "data": {
      "text/plain": [
       "((10000,), (10000,), (2000,), (2000,))"
      ]
     },
     "execution_count": 28,
     "metadata": {},
     "output_type": "execute_result"
    }
   ],
   "source": [
    "X_train.shape,y_train.shape,X_test.shape,y_test.shape"
   ]
  },
  {
   "cell_type": "code",
   "execution_count": 29,
   "id": "a30c8c73-277f-4812-aba8-62a784f8d088",
   "metadata": {},
   "outputs": [],
   "source": [
    "from sklearn.feature_extraction.text import CountVectorizer\n",
    "from konlpy.tag import Kkma "
   ]
  },
  {
   "cell_type": "code",
   "execution_count": 34,
   "id": "ea1cc0bc-333f-49fd-8745-3196f55345e7",
   "metadata": {},
   "outputs": [],
   "source": [
    "def myTokenizer(text):\n",
    "    return Kkma().nouns(text)"
   ]
  },
  {
   "cell_type": "code",
   "execution_count": 35,
   "id": "5d2c5c67-9247-4551-aa89-3ada0dcc0b29",
   "metadata": {},
   "outputs": [
    {
     "data": {
      "text/html": [
       "<style>#sk-container-id-3 {color: black;}#sk-container-id-3 pre{padding: 0;}#sk-container-id-3 div.sk-toggleable {background-color: white;}#sk-container-id-3 label.sk-toggleable__label {cursor: pointer;display: block;width: 100%;margin-bottom: 0;padding: 0.3em;box-sizing: border-box;text-align: center;}#sk-container-id-3 label.sk-toggleable__label-arrow:before {content: \"▸\";float: left;margin-right: 0.25em;color: #696969;}#sk-container-id-3 label.sk-toggleable__label-arrow:hover:before {color: black;}#sk-container-id-3 div.sk-estimator:hover label.sk-toggleable__label-arrow:before {color: black;}#sk-container-id-3 div.sk-toggleable__content {max-height: 0;max-width: 0;overflow: hidden;text-align: left;background-color: #f0f8ff;}#sk-container-id-3 div.sk-toggleable__content pre {margin: 0.2em;color: black;border-radius: 0.25em;background-color: #f0f8ff;}#sk-container-id-3 input.sk-toggleable__control:checked~div.sk-toggleable__content {max-height: 200px;max-width: 100%;overflow: auto;}#sk-container-id-3 input.sk-toggleable__control:checked~label.sk-toggleable__label-arrow:before {content: \"▾\";}#sk-container-id-3 div.sk-estimator input.sk-toggleable__control:checked~label.sk-toggleable__label {background-color: #d4ebff;}#sk-container-id-3 div.sk-label input.sk-toggleable__control:checked~label.sk-toggleable__label {background-color: #d4ebff;}#sk-container-id-3 input.sk-hidden--visually {border: 0;clip: rect(1px 1px 1px 1px);clip: rect(1px, 1px, 1px, 1px);height: 1px;margin: -1px;overflow: hidden;padding: 0;position: absolute;width: 1px;}#sk-container-id-3 div.sk-estimator {font-family: monospace;background-color: #f0f8ff;border: 1px dotted black;border-radius: 0.25em;box-sizing: border-box;margin-bottom: 0.5em;}#sk-container-id-3 div.sk-estimator:hover {background-color: #d4ebff;}#sk-container-id-3 div.sk-parallel-item::after {content: \"\";width: 100%;border-bottom: 1px solid gray;flex-grow: 1;}#sk-container-id-3 div.sk-label:hover label.sk-toggleable__label {background-color: #d4ebff;}#sk-container-id-3 div.sk-serial::before {content: \"\";position: absolute;border-left: 1px solid gray;box-sizing: border-box;top: 0;bottom: 0;left: 50%;z-index: 0;}#sk-container-id-3 div.sk-serial {display: flex;flex-direction: column;align-items: center;background-color: white;padding-right: 0.2em;padding-left: 0.2em;position: relative;}#sk-container-id-3 div.sk-item {position: relative;z-index: 1;}#sk-container-id-3 div.sk-parallel {display: flex;align-items: stretch;justify-content: center;background-color: white;position: relative;}#sk-container-id-3 div.sk-item::before, #sk-container-id-3 div.sk-parallel-item::before {content: \"\";position: absolute;border-left: 1px solid gray;box-sizing: border-box;top: 0;bottom: 0;left: 50%;z-index: -1;}#sk-container-id-3 div.sk-parallel-item {display: flex;flex-direction: column;z-index: 1;position: relative;background-color: white;}#sk-container-id-3 div.sk-parallel-item:first-child::after {align-self: flex-end;width: 50%;}#sk-container-id-3 div.sk-parallel-item:last-child::after {align-self: flex-start;width: 50%;}#sk-container-id-3 div.sk-parallel-item:only-child::after {width: 0;}#sk-container-id-3 div.sk-dashed-wrapped {border: 1px dashed gray;margin: 0 0.4em 0.5em 0.4em;box-sizing: border-box;padding-bottom: 0.4em;background-color: white;}#sk-container-id-3 div.sk-label label {font-family: monospace;font-weight: bold;display: inline-block;line-height: 1.2em;}#sk-container-id-3 div.sk-label-container {text-align: center;}#sk-container-id-3 div.sk-container {/* jupyter's `normalize.less` sets `[hidden] { display: none; }` but bootstrap.min.css set `[hidden] { display: none !important; }` so we also need the `!important` here to be able to override the default hidden behavior on the sphinx rendered scikit-learn.org. See: https://github.com/scikit-learn/scikit-learn/issues/21755 */display: inline-block !important;position: relative;}#sk-container-id-3 div.sk-text-repr-fallback {display: none;}</style><div id=\"sk-container-id-3\" class=\"sk-top-container\"><div class=\"sk-text-repr-fallback\"><pre>CountVectorizer(tokenizer=&lt;function myTokenizer at 0x000002AFB8CD5A60&gt;)</pre><b>In a Jupyter environment, please rerun this cell to show the HTML representation or trust the notebook. <br />On GitHub, the HTML representation is unable to render, please try loading this page with nbviewer.org.</b></div><div class=\"sk-container\" hidden><div class=\"sk-item\"><div class=\"sk-estimator sk-toggleable\"><input class=\"sk-toggleable__control sk-hidden--visually\" id=\"sk-estimator-id-3\" type=\"checkbox\" checked><label for=\"sk-estimator-id-3\" class=\"sk-toggleable__label sk-toggleable__label-arrow\">CountVectorizer</label><div class=\"sk-toggleable__content\"><pre>CountVectorizer(tokenizer=&lt;function myTokenizer at 0x000002AFB8CD5A60&gt;)</pre></div></div></div></div></div>"
      ],
      "text/plain": [
       "CountVectorizer(tokenizer=<function myTokenizer at 0x000002AFB8CD5A60>)"
      ]
     },
     "execution_count": 35,
     "metadata": {},
     "output_type": "execute_result"
    }
   ],
   "source": [
    "bow_kkma=CountVectorizer(tokenizer=myTokenizer)\n",
    "bow_kkma.fit(X_train) #단어사전 구축"
   ]
  },
  {
   "cell_type": "code",
   "execution_count": 36,
   "id": "d0236802-1c78-41d5-a8fd-9486c9d94941",
   "metadata": {},
   "outputs": [],
   "source": [
    "X_train=bow_kkma.transform(X_train)\n",
    "X_test=bow_kkma.transform(X_test)"
   ]
  },
  {
   "cell_type": "code",
   "execution_count": 37,
   "id": "d4829305-e62d-458b-a15b-b81845a0df70",
   "metadata": {},
   "outputs": [
    {
     "data": {
      "text/plain": [
       "14923"
      ]
     },
     "execution_count": 37,
     "metadata": {},
     "output_type": "execute_result"
    }
   ],
   "source": [
    "len(bow_kkma.vocabulary_)"
   ]
  },
  {
   "cell_type": "code",
   "execution_count": 42,
   "id": "24ff60e5-3e75-49bb-88e4-1a012c8b5108",
   "metadata": {},
   "outputs": [
    {
     "data": {
      "text/plain": [
       "<10000x14923 sparse matrix of type '<class 'numpy.int64'>'\n",
       "\twith 68042 stored elements in Compressed Sparse Row format>"
      ]
     },
     "execution_count": 42,
     "metadata": {},
     "output_type": "execute_result"
    }
   ],
   "source": [
    "X_train"
   ]
  },
  {
   "cell_type": "code",
   "execution_count": null,
   "id": "5ea88fbc-8c30-4eb9-846b-030a6c41045d",
   "metadata": {},
   "outputs": [],
   "source": [
    "#BOW 방법론에서는 가장 빈도가 높은 단어가 가장 중요하다고 판단\n",
    "#TFIDF 방법론\n",
    "#1.많이 나왔는가 > 각 문서에서 발생한 빈도\n",
    "#2.문서에서 단어가 발생한 빈도 > 전체 문서 중에서 해당 단어가 들어가 있는 문서의 수 \n",
    "#                                > 역수를 사용 > 적은 문서에서 발견될수록 가치있는 정보다\n",
    "#3.1번 값과 2번 값을 곱해서 큰 수가 나올수록 중요한 단어"
   ]
  },
  {
   "cell_type": "code",
   "execution_count": null,
   "id": "3522d26a-1483-49f8-9627-757f8cdc0aa8",
   "metadata": {},
   "outputs": [],
   "source": []
  },
  {
   "cell_type": "code",
   "execution_count": 43,
   "id": "566f5f80-7d50-4c46-b6ae-3a59df05c9de",
   "metadata": {},
   "outputs": [],
   "source": [
    "# TFIDF 토큰화 사용하기\n",
    "from sklearn.feature_extraction.text import TfidfVectorizer\n",
    "tfidf=TfidfVectorizer(tokenizer=myTokenizer)\n",
    "X_train = text_train['document'][:10000]\n",
    "X_test=text_test['document'][:2000]"
   ]
  },
  {
   "cell_type": "code",
   "execution_count": 44,
   "id": "84ef2495-4f87-4030-b13e-8d1175fd1dad",
   "metadata": {},
   "outputs": [
    {
     "name": "stderr",
     "output_type": "stream",
     "text": [
      "C:\\Users\\smhrd\\anaconda3\\envs\\konlpy\\lib\\site-packages\\sklearn\\feature_extraction\\text.py:525: UserWarning: The parameter 'token_pattern' will not be used since 'tokenizer' is not None'\n",
      "  warnings.warn(\n"
     ]
    }
   ],
   "source": [
    "X_train=tfidf.fit_transform(X_train)\n",
    "X_test=tfidf.transform(X_test)"
   ]
  },
  {
   "cell_type": "markdown",
   "id": "3e57efc4-5dc3-4d01-b8d0-ced902bf4314",
   "metadata": {},
   "source": [
    "# 4.탐색적 데이터 분석\n",
    "- 생략"
   ]
  },
  {
   "cell_type": "markdown",
   "id": "d951f730-f171-4cec-abd7-4892b1200c13",
   "metadata": {},
   "source": [
    "# 5.모델 선택 및 하이퍼파라미터 튜닝"
   ]
  },
  {
   "cell_type": "code",
   "execution_count": 38,
   "id": "973fd4a3-9232-4462-aa10-63480b7e0794",
   "metadata": {},
   "outputs": [],
   "source": [
    "from sklearn.linear_model import LogisticRegression"
   ]
  },
  {
   "cell_type": "code",
   "execution_count": 47,
   "id": "7ce6e2fa-a063-498c-91ea-f391b74a69eb",
   "metadata": {},
   "outputs": [
    {
     "data": {
      "text/html": [
       "<style>#sk-container-id-5 {color: black;}#sk-container-id-5 pre{padding: 0;}#sk-container-id-5 div.sk-toggleable {background-color: white;}#sk-container-id-5 label.sk-toggleable__label {cursor: pointer;display: block;width: 100%;margin-bottom: 0;padding: 0.3em;box-sizing: border-box;text-align: center;}#sk-container-id-5 label.sk-toggleable__label-arrow:before {content: \"▸\";float: left;margin-right: 0.25em;color: #696969;}#sk-container-id-5 label.sk-toggleable__label-arrow:hover:before {color: black;}#sk-container-id-5 div.sk-estimator:hover label.sk-toggleable__label-arrow:before {color: black;}#sk-container-id-5 div.sk-toggleable__content {max-height: 0;max-width: 0;overflow: hidden;text-align: left;background-color: #f0f8ff;}#sk-container-id-5 div.sk-toggleable__content pre {margin: 0.2em;color: black;border-radius: 0.25em;background-color: #f0f8ff;}#sk-container-id-5 input.sk-toggleable__control:checked~div.sk-toggleable__content {max-height: 200px;max-width: 100%;overflow: auto;}#sk-container-id-5 input.sk-toggleable__control:checked~label.sk-toggleable__label-arrow:before {content: \"▾\";}#sk-container-id-5 div.sk-estimator input.sk-toggleable__control:checked~label.sk-toggleable__label {background-color: #d4ebff;}#sk-container-id-5 div.sk-label input.sk-toggleable__control:checked~label.sk-toggleable__label {background-color: #d4ebff;}#sk-container-id-5 input.sk-hidden--visually {border: 0;clip: rect(1px 1px 1px 1px);clip: rect(1px, 1px, 1px, 1px);height: 1px;margin: -1px;overflow: hidden;padding: 0;position: absolute;width: 1px;}#sk-container-id-5 div.sk-estimator {font-family: monospace;background-color: #f0f8ff;border: 1px dotted black;border-radius: 0.25em;box-sizing: border-box;margin-bottom: 0.5em;}#sk-container-id-5 div.sk-estimator:hover {background-color: #d4ebff;}#sk-container-id-5 div.sk-parallel-item::after {content: \"\";width: 100%;border-bottom: 1px solid gray;flex-grow: 1;}#sk-container-id-5 div.sk-label:hover label.sk-toggleable__label {background-color: #d4ebff;}#sk-container-id-5 div.sk-serial::before {content: \"\";position: absolute;border-left: 1px solid gray;box-sizing: border-box;top: 0;bottom: 0;left: 50%;z-index: 0;}#sk-container-id-5 div.sk-serial {display: flex;flex-direction: column;align-items: center;background-color: white;padding-right: 0.2em;padding-left: 0.2em;position: relative;}#sk-container-id-5 div.sk-item {position: relative;z-index: 1;}#sk-container-id-5 div.sk-parallel {display: flex;align-items: stretch;justify-content: center;background-color: white;position: relative;}#sk-container-id-5 div.sk-item::before, #sk-container-id-5 div.sk-parallel-item::before {content: \"\";position: absolute;border-left: 1px solid gray;box-sizing: border-box;top: 0;bottom: 0;left: 50%;z-index: -1;}#sk-container-id-5 div.sk-parallel-item {display: flex;flex-direction: column;z-index: 1;position: relative;background-color: white;}#sk-container-id-5 div.sk-parallel-item:first-child::after {align-self: flex-end;width: 50%;}#sk-container-id-5 div.sk-parallel-item:last-child::after {align-self: flex-start;width: 50%;}#sk-container-id-5 div.sk-parallel-item:only-child::after {width: 0;}#sk-container-id-5 div.sk-dashed-wrapped {border: 1px dashed gray;margin: 0 0.4em 0.5em 0.4em;box-sizing: border-box;padding-bottom: 0.4em;background-color: white;}#sk-container-id-5 div.sk-label label {font-family: monospace;font-weight: bold;display: inline-block;line-height: 1.2em;}#sk-container-id-5 div.sk-label-container {text-align: center;}#sk-container-id-5 div.sk-container {/* jupyter's `normalize.less` sets `[hidden] { display: none; }` but bootstrap.min.css set `[hidden] { display: none !important; }` so we also need the `!important` here to be able to override the default hidden behavior on the sphinx rendered scikit-learn.org. See: https://github.com/scikit-learn/scikit-learn/issues/21755 */display: inline-block !important;position: relative;}#sk-container-id-5 div.sk-text-repr-fallback {display: none;}</style><div id=\"sk-container-id-5\" class=\"sk-top-container\"><div class=\"sk-text-repr-fallback\"><pre>LogisticRegression()</pre><b>In a Jupyter environment, please rerun this cell to show the HTML representation or trust the notebook. <br />On GitHub, the HTML representation is unable to render, please try loading this page with nbviewer.org.</b></div><div class=\"sk-container\" hidden><div class=\"sk-item\"><div class=\"sk-estimator sk-toggleable\"><input class=\"sk-toggleable__control sk-hidden--visually\" id=\"sk-estimator-id-5\" type=\"checkbox\" checked><label for=\"sk-estimator-id-5\" class=\"sk-toggleable__label sk-toggleable__label-arrow\">LogisticRegression</label><div class=\"sk-toggleable__content\"><pre>LogisticRegression()</pre></div></div></div></div></div>"
      ],
      "text/plain": [
       "LogisticRegression()"
      ]
     },
     "execution_count": 47,
     "metadata": {},
     "output_type": "execute_result"
    }
   ],
   "source": [
    "lr=LogisticRegression()\n",
    "lr.fit(X_train,y_train)"
   ]
  },
  {
   "cell_type": "code",
   "execution_count": 40,
   "id": "caa9a4b1-29b8-4223-ab02-3f0f8c45799a",
   "metadata": {},
   "outputs": [
    {
     "data": {
      "text/plain": [
       "0.8979"
      ]
     },
     "execution_count": 40,
     "metadata": {},
     "output_type": "execute_result"
    }
   ],
   "source": [
    "#bow + kkma\n",
    "lr.score(X_train,y_train)"
   ]
  },
  {
   "cell_type": "code",
   "execution_count": 41,
   "id": "0a0d2813-8759-40e5-9d40-5751be038456",
   "metadata": {},
   "outputs": [
    {
     "data": {
      "text/plain": [
       "0.7335"
      ]
     },
     "execution_count": 41,
     "metadata": {},
     "output_type": "execute_result"
    }
   ],
   "source": [
    "#bow + kkma\n",
    "lr.score(X_test,y_test)"
   ]
  },
  {
   "cell_type": "code",
   "execution_count": 48,
   "id": "8a0d9411-a8a0-4f54-8e4d-397ffa2af252",
   "metadata": {},
   "outputs": [
    {
     "data": {
      "text/plain": [
       "0.8556"
      ]
     },
     "execution_count": 48,
     "metadata": {},
     "output_type": "execute_result"
    }
   ],
   "source": [
    "# tfidf + kkma\n",
    "#결과가 다소 안좋아짐\n",
    "#리뷰데이터는 하나의 문서가 하나의 리뷰 > 문서 자체의 데이터가 크지않아서 의미가 다소 떨어짐\n",
    "lr.score(X_train,y_train)"
   ]
  },
  {
   "cell_type": "code",
   "execution_count": 49,
   "id": "3cc21040-ffb6-4171-b9fa-2767462fa662",
   "metadata": {},
   "outputs": [
    {
     "data": {
      "text/plain": [
       "0.725"
      ]
     },
     "execution_count": 49,
     "metadata": {},
     "output_type": "execute_result"
    }
   ],
   "source": [
    "#tfidf + kkma\n",
    "lr.score(X_test,y_test)"
   ]
  },
  {
   "cell_type": "code",
   "execution_count": null,
   "id": "eaed8fce-2a7a-499c-aeb5-d4888297afd7",
   "metadata": {},
   "outputs": [],
   "source": [
    "#pipeline으로 tfidf + kkma + LogisticRegression"
   ]
  },
  {
   "cell_type": "code",
   "execution_count": 50,
   "id": "4d3ab8fe-a866-4d40-81f4-a199c1016c1c",
   "metadata": {},
   "outputs": [],
   "source": [
    "from sklearn.pipeline import make_pipeline"
   ]
  },
  {
   "cell_type": "code",
   "execution_count": 69,
   "id": "00f76bb1-3814-4d9f-8de6-85eb559dab46",
   "metadata": {},
   "outputs": [
    {
     "name": "stderr",
     "output_type": "stream",
     "text": [
      "C:\\Users\\smhrd\\anaconda3\\envs\\konlpy\\lib\\site-packages\\sklearn\\feature_extraction\\text.py:525: UserWarning: The parameter 'token_pattern' will not be used since 'tokenizer' is not None'\n",
      "  warnings.warn(\n"
     ]
    },
    {
     "data": {
      "text/html": [
       "<style>#sk-container-id-7 {color: black;}#sk-container-id-7 pre{padding: 0;}#sk-container-id-7 div.sk-toggleable {background-color: white;}#sk-container-id-7 label.sk-toggleable__label {cursor: pointer;display: block;width: 100%;margin-bottom: 0;padding: 0.3em;box-sizing: border-box;text-align: center;}#sk-container-id-7 label.sk-toggleable__label-arrow:before {content: \"▸\";float: left;margin-right: 0.25em;color: #696969;}#sk-container-id-7 label.sk-toggleable__label-arrow:hover:before {color: black;}#sk-container-id-7 div.sk-estimator:hover label.sk-toggleable__label-arrow:before {color: black;}#sk-container-id-7 div.sk-toggleable__content {max-height: 0;max-width: 0;overflow: hidden;text-align: left;background-color: #f0f8ff;}#sk-container-id-7 div.sk-toggleable__content pre {margin: 0.2em;color: black;border-radius: 0.25em;background-color: #f0f8ff;}#sk-container-id-7 input.sk-toggleable__control:checked~div.sk-toggleable__content {max-height: 200px;max-width: 100%;overflow: auto;}#sk-container-id-7 input.sk-toggleable__control:checked~label.sk-toggleable__label-arrow:before {content: \"▾\";}#sk-container-id-7 div.sk-estimator input.sk-toggleable__control:checked~label.sk-toggleable__label {background-color: #d4ebff;}#sk-container-id-7 div.sk-label input.sk-toggleable__control:checked~label.sk-toggleable__label {background-color: #d4ebff;}#sk-container-id-7 input.sk-hidden--visually {border: 0;clip: rect(1px 1px 1px 1px);clip: rect(1px, 1px, 1px, 1px);height: 1px;margin: -1px;overflow: hidden;padding: 0;position: absolute;width: 1px;}#sk-container-id-7 div.sk-estimator {font-family: monospace;background-color: #f0f8ff;border: 1px dotted black;border-radius: 0.25em;box-sizing: border-box;margin-bottom: 0.5em;}#sk-container-id-7 div.sk-estimator:hover {background-color: #d4ebff;}#sk-container-id-7 div.sk-parallel-item::after {content: \"\";width: 100%;border-bottom: 1px solid gray;flex-grow: 1;}#sk-container-id-7 div.sk-label:hover label.sk-toggleable__label {background-color: #d4ebff;}#sk-container-id-7 div.sk-serial::before {content: \"\";position: absolute;border-left: 1px solid gray;box-sizing: border-box;top: 0;bottom: 0;left: 50%;z-index: 0;}#sk-container-id-7 div.sk-serial {display: flex;flex-direction: column;align-items: center;background-color: white;padding-right: 0.2em;padding-left: 0.2em;position: relative;}#sk-container-id-7 div.sk-item {position: relative;z-index: 1;}#sk-container-id-7 div.sk-parallel {display: flex;align-items: stretch;justify-content: center;background-color: white;position: relative;}#sk-container-id-7 div.sk-item::before, #sk-container-id-7 div.sk-parallel-item::before {content: \"\";position: absolute;border-left: 1px solid gray;box-sizing: border-box;top: 0;bottom: 0;left: 50%;z-index: -1;}#sk-container-id-7 div.sk-parallel-item {display: flex;flex-direction: column;z-index: 1;position: relative;background-color: white;}#sk-container-id-7 div.sk-parallel-item:first-child::after {align-self: flex-end;width: 50%;}#sk-container-id-7 div.sk-parallel-item:last-child::after {align-self: flex-start;width: 50%;}#sk-container-id-7 div.sk-parallel-item:only-child::after {width: 0;}#sk-container-id-7 div.sk-dashed-wrapped {border: 1px dashed gray;margin: 0 0.4em 0.5em 0.4em;box-sizing: border-box;padding-bottom: 0.4em;background-color: white;}#sk-container-id-7 div.sk-label label {font-family: monospace;font-weight: bold;display: inline-block;line-height: 1.2em;}#sk-container-id-7 div.sk-label-container {text-align: center;}#sk-container-id-7 div.sk-container {/* jupyter's `normalize.less` sets `[hidden] { display: none; }` but bootstrap.min.css set `[hidden] { display: none !important; }` so we also need the `!important` here to be able to override the default hidden behavior on the sphinx rendered scikit-learn.org. See: https://github.com/scikit-learn/scikit-learn/issues/21755 */display: inline-block !important;position: relative;}#sk-container-id-7 div.sk-text-repr-fallback {display: none;}</style><div id=\"sk-container-id-7\" class=\"sk-top-container\"><div class=\"sk-text-repr-fallback\"><pre>Pipeline(steps=[(&#x27;tfidfvectorizer&#x27;,\n",
       "                 TfidfVectorizer(tokenizer=&lt;function myTokenizer at 0x000002AFB8CD5A60&gt;)),\n",
       "                (&#x27;logisticregression&#x27;, LogisticRegression())])</pre><b>In a Jupyter environment, please rerun this cell to show the HTML representation or trust the notebook. <br />On GitHub, the HTML representation is unable to render, please try loading this page with nbviewer.org.</b></div><div class=\"sk-container\" hidden><div class=\"sk-item sk-dashed-wrapped\"><div class=\"sk-label-container\"><div class=\"sk-label sk-toggleable\"><input class=\"sk-toggleable__control sk-hidden--visually\" id=\"sk-estimator-id-9\" type=\"checkbox\" ><label for=\"sk-estimator-id-9\" class=\"sk-toggleable__label sk-toggleable__label-arrow\">Pipeline</label><div class=\"sk-toggleable__content\"><pre>Pipeline(steps=[(&#x27;tfidfvectorizer&#x27;,\n",
       "                 TfidfVectorizer(tokenizer=&lt;function myTokenizer at 0x000002AFB8CD5A60&gt;)),\n",
       "                (&#x27;logisticregression&#x27;, LogisticRegression())])</pre></div></div></div><div class=\"sk-serial\"><div class=\"sk-item\"><div class=\"sk-estimator sk-toggleable\"><input class=\"sk-toggleable__control sk-hidden--visually\" id=\"sk-estimator-id-10\" type=\"checkbox\" ><label for=\"sk-estimator-id-10\" class=\"sk-toggleable__label sk-toggleable__label-arrow\">TfidfVectorizer</label><div class=\"sk-toggleable__content\"><pre>TfidfVectorizer(tokenizer=&lt;function myTokenizer at 0x000002AFB8CD5A60&gt;)</pre></div></div></div><div class=\"sk-item\"><div class=\"sk-estimator sk-toggleable\"><input class=\"sk-toggleable__control sk-hidden--visually\" id=\"sk-estimator-id-11\" type=\"checkbox\" ><label for=\"sk-estimator-id-11\" class=\"sk-toggleable__label sk-toggleable__label-arrow\">LogisticRegression</label><div class=\"sk-toggleable__content\"><pre>LogisticRegression()</pre></div></div></div></div></div></div></div>"
      ],
      "text/plain": [
       "Pipeline(steps=[('tfidfvectorizer',\n",
       "                 TfidfVectorizer(tokenizer=<function myTokenizer at 0x000002AFB8CD5A60>)),\n",
       "                ('logisticregression', LogisticRegression())])"
      ]
     },
     "execution_count": 69,
     "metadata": {},
     "output_type": "execute_result"
    }
   ],
   "source": [
    "pipe_model=make_pipeline(\n",
    "    TfidfVectorizer(tokenizer=myTokenizer),\n",
    "    LogisticRegression()\n",
    ")\n",
    "text_train=text_train['document'][:10000]\n",
    "text_test=text_test['document'][:2000]\n",
    "\n",
    "pipe_model.fit(text_train,y_train)"
   ]
  },
  {
   "cell_type": "code",
   "execution_count": 80,
   "id": "b217984e-92ae-46e6-8118-3526cb222a9b",
   "metadata": {},
   "outputs": [
    {
     "data": {
      "text/plain": [
       "array([0], dtype=int64)"
      ]
     },
     "execution_count": 80,
     "metadata": {},
     "output_type": "execute_result"
    }
   ],
   "source": [
    "pipe_model.predict(['영화보고하품이나오네요'])"
   ]
  },
  {
   "cell_type": "code",
   "execution_count": 73,
   "id": "7ddab89a-90e3-440e-b9d5-f3bf9af54b0d",
   "metadata": {},
   "outputs": [
    {
     "data": {
      "text/plain": [
       "0                                     아 더빙.. 진짜 짜증나네요 목소리\n",
       "1                       흠...포스터보고 초딩영화줄....오버연기조차 가볍지 않구나\n",
       "2                                       너무재밓었다그래서보는것을추천한다\n",
       "3                           교도소 이야기구먼 ..솔직히 재미는 없다..평점 조정\n",
       "4       사이몬페그의 익살스런 연기가 돋보였던 영화!스파이더맨에서 늙어보이기만 했던 커스틴 ...\n",
       "                              ...                        \n",
       "9995    곰티비로 무료로 봤기때문에 5점주려고했는데 1 한국 공포영화의 특징인 깜놀시키려 하...\n",
       "9996    이딴걸드라마라고썼냐 수습할수없으면걍친자녀아니면되고 간단하네 얼굴을바꿨으면 결말이라도...\n",
       "9997                                왠지 김연아 크면 에리카처럼 될것같음.\n",
       "9998            솔직히 굿 ㅋㅋㅋㅋ 넘버11씨는 살아남길 바랬는데 2번째극장판 어서 나오길\n",
       "9999                                        그냥보다나옴 노답 핵노잼\n",
       "Name: document, Length: 10000, dtype: object"
      ]
     },
     "execution_count": 73,
     "metadata": {},
     "output_type": "execute_result"
    }
   ],
   "source": [
    "text_train"
   ]
  },
  {
   "cell_type": "code",
   "execution_count": 74,
   "id": "060424fc-6cad-4989-9253-c735e6b06aab",
   "metadata": {},
   "outputs": [
    {
     "data": {
      "text/plain": [
       "0       0\n",
       "1       1\n",
       "2       0\n",
       "3       0\n",
       "4       1\n",
       "       ..\n",
       "9995    0\n",
       "9996    0\n",
       "9997    1\n",
       "9998    1\n",
       "9999    0\n",
       "Name: label, Length: 10000, dtype: int64"
      ]
     },
     "execution_count": 74,
     "metadata": {},
     "output_type": "execute_result"
    }
   ],
   "source": [
    "y_train"
   ]
  },
  {
   "cell_type": "code",
   "execution_count": 81,
   "id": "ac64d0e1-75cd-4c22-888f-bf1579fd5b9e",
   "metadata": {},
   "outputs": [
    {
     "data": {
      "text/plain": [
       "[('tfidfvectorizer',\n",
       "  TfidfVectorizer(tokenizer=<function myTokenizer at 0x000002AFB8CD5A60>)),\n",
       " ('logisticregression', LogisticRegression())]"
      ]
     },
     "execution_count": 81,
     "metadata": {},
     "output_type": "execute_result"
    }
   ],
   "source": [
    "pipe_model.steps"
   ]
  },
  {
   "cell_type": "code",
   "execution_count": 84,
   "id": "0c63096d-6bdf-469d-a537-4dbd06bb9945",
   "metadata": {},
   "outputs": [],
   "source": [
    "tfidf=pipe_model.steps[0][1]\n",
    "logi=pipe_model.steps[1][1]"
   ]
  },
  {
   "cell_type": "code",
   "execution_count": 89,
   "id": "3e31e641-d92a-4029-89e6-b728ae92f477",
   "metadata": {},
   "outputs": [
    {
     "data": {
      "text/html": [
       "<div>\n",
       "<style scoped>\n",
       "    .dataframe tbody tr th:only-of-type {\n",
       "        vertical-align: middle;\n",
       "    }\n",
       "\n",
       "    .dataframe tbody tr th {\n",
       "        vertical-align: top;\n",
       "    }\n",
       "\n",
       "    .dataframe thead th {\n",
       "        text-align: right;\n",
       "    }\n",
       "</style>\n",
       "<table border=\"1\" class=\"dataframe\">\n",
       "  <thead>\n",
       "    <tr style=\"text-align: right;\">\n",
       "      <th></th>\n",
       "      <th>0</th>\n",
       "      <th>1</th>\n",
       "      <th>weight</th>\n",
       "    </tr>\n",
       "  </thead>\n",
       "  <tbody>\n",
       "    <tr>\n",
       "      <th>10394</th>\n",
       "      <td>-10</td>\n",
       "      <td>0</td>\n",
       "      <td>-0.200664</td>\n",
       "    </tr>\n",
       "    <tr>\n",
       "      <th>9040</th>\n",
       "      <td>-1000000000</td>\n",
       "      <td>1</td>\n",
       "      <td>-0.153062</td>\n",
       "    </tr>\n",
       "    <tr>\n",
       "      <th>13876</th>\n",
       "      <td>-10점</td>\n",
       "      <td>2</td>\n",
       "      <td>-0.089091</td>\n",
       "    </tr>\n",
       "    <tr>\n",
       "      <th>6594</th>\n",
       "      <td>-120</td>\n",
       "      <td>3</td>\n",
       "      <td>-0.245164</td>\n",
       "    </tr>\n",
       "    <tr>\n",
       "      <th>329</th>\n",
       "      <td>-2</td>\n",
       "      <td>4</td>\n",
       "      <td>0.080152</td>\n",
       "    </tr>\n",
       "  </tbody>\n",
       "</table>\n",
       "</div>"
      ],
      "text/plain": [
       "                 0  1    weight\n",
       "10394          -10  0 -0.200664\n",
       "9040   -1000000000  1 -0.153062\n",
       "13876         -10점  2 -0.089091\n",
       "6594          -120  3 -0.245164\n",
       "329             -2  4  0.080152"
      ]
     },
     "execution_count": 89,
     "metadata": {},
     "output_type": "execute_result"
    }
   ],
   "source": [
    "voca=tfidf.vocabulary_\n",
    "df=pd.DataFrame([voca.keys(),voca.values()])\n",
    "#데이터프레임 가로 세로 변경\n",
    "df=df.T\n",
    "#1번 열(단어사전에 등록된 단어의 번호) 기준으로 정렬\n",
    "df_sorted=df.sort_values(by=1)\n",
    "df_sorted['weight']=logi.coef_[0]\n",
    "df_sorted.head()"
   ]
  },
  {
   "cell_type": "code",
   "execution_count": 91,
   "id": "4cfaee85-1f2d-443f-acd1-87ae9c1c73dc",
   "metadata": {},
   "outputs": [
    {
     "data": {
      "text/html": [
       "<div>\n",
       "<style scoped>\n",
       "    .dataframe tbody tr th:only-of-type {\n",
       "        vertical-align: middle;\n",
       "    }\n",
       "\n",
       "    .dataframe tbody tr th {\n",
       "        vertical-align: top;\n",
       "    }\n",
       "\n",
       "    .dataframe thead th {\n",
       "        text-align: right;\n",
       "    }\n",
       "</style>\n",
       "<table border=\"1\" class=\"dataframe\">\n",
       "  <thead>\n",
       "    <tr style=\"text-align: right;\">\n",
       "      <th></th>\n",
       "      <th>0</th>\n",
       "      <th>1</th>\n",
       "      <th>weight</th>\n",
       "    </tr>\n",
       "  </thead>\n",
       "  <tbody>\n",
       "    <tr>\n",
       "      <th>516</th>\n",
       "      <td>최악</td>\n",
       "      <td>12687</td>\n",
       "      <td>-4.521554</td>\n",
       "    </tr>\n",
       "    <tr>\n",
       "      <th>205</th>\n",
       "      <td>쓰레기</td>\n",
       "      <td>8069</td>\n",
       "      <td>-4.143350</td>\n",
       "    </tr>\n",
       "    <tr>\n",
       "      <th>477</th>\n",
       "      <td>실망</td>\n",
       "      <td>7922</td>\n",
       "      <td>-3.697868</td>\n",
       "    </tr>\n",
       "    <tr>\n",
       "      <th>266</th>\n",
       "      <td>돈</td>\n",
       "      <td>3576</td>\n",
       "      <td>-3.306030</td>\n",
       "    </tr>\n",
       "    <tr>\n",
       "      <th>446</th>\n",
       "      <td>유치</td>\n",
       "      <td>9990</td>\n",
       "      <td>-2.931222</td>\n",
       "    </tr>\n",
       "  </tbody>\n",
       "</table>\n",
       "</div>"
      ],
      "text/plain": [
       "       0      1    weight\n",
       "516   최악  12687 -4.521554\n",
       "205  쓰레기   8069 -4.143350\n",
       "477   실망   7922 -3.697868\n",
       "266    돈   3576 -3.306030\n",
       "446   유치   9990 -2.931222"
      ]
     },
     "execution_count": 91,
     "metadata": {},
     "output_type": "execute_result"
    }
   ],
   "source": [
    "#가중치 기준으로 정렬하기\n",
    "df_sorted.sort_values(by='weight',inplace=True)\n",
    "df_sorted.head()"
   ]
  },
  {
   "cell_type": "code",
   "execution_count": 92,
   "id": "b5b8e510-3767-4e37-96ed-d903ee0620e9",
   "metadata": {},
   "outputs": [
    {
     "data": {
      "text/html": [
       "<div>\n",
       "<style scoped>\n",
       "    .dataframe tbody tr th:only-of-type {\n",
       "        vertical-align: middle;\n",
       "    }\n",
       "\n",
       "    .dataframe tbody tr th {\n",
       "        vertical-align: top;\n",
       "    }\n",
       "\n",
       "    .dataframe thead th {\n",
       "        text-align: right;\n",
       "    }\n",
       "</style>\n",
       "<table border=\"1\" class=\"dataframe\">\n",
       "  <thead>\n",
       "    <tr style=\"text-align: right;\">\n",
       "      <th></th>\n",
       "      <th>0</th>\n",
       "      <th>1</th>\n",
       "      <th>weight</th>\n",
       "    </tr>\n",
       "  </thead>\n",
       "  <tbody>\n",
       "    <tr>\n",
       "      <th>961</th>\n",
       "      <td>감동적</td>\n",
       "      <td>1060</td>\n",
       "      <td>2.870650</td>\n",
       "    </tr>\n",
       "    <tr>\n",
       "      <th>694</th>\n",
       "      <td>여운</td>\n",
       "      <td>8862</td>\n",
       "      <td>2.896695</td>\n",
       "    </tr>\n",
       "    <tr>\n",
       "      <th>180</th>\n",
       "      <td>수작</td>\n",
       "      <td>7382</td>\n",
       "      <td>3.047286</td>\n",
       "    </tr>\n",
       "    <tr>\n",
       "      <th>348</th>\n",
       "      <td>가슴</td>\n",
       "      <td>919</td>\n",
       "      <td>3.273861</td>\n",
       "    </tr>\n",
       "    <tr>\n",
       "      <th>217</th>\n",
       "      <td>최고</td>\n",
       "      <td>12641</td>\n",
       "      <td>5.420388</td>\n",
       "    </tr>\n",
       "  </tbody>\n",
       "</table>\n",
       "</div>"
      ],
      "text/plain": [
       "       0      1    weight\n",
       "961  감동적   1060  2.870650\n",
       "694   여운   8862  2.896695\n",
       "180   수작   7382  3.047286\n",
       "348   가슴    919  3.273861\n",
       "217   최고  12641  5.420388"
      ]
     },
     "execution_count": 92,
     "metadata": {},
     "output_type": "execute_result"
    }
   ],
   "source": [
    "df_sorted.tail()"
   ]
  },
  {
   "cell_type": "code",
   "execution_count": 93,
   "id": "ac65c76d-bf35-4a15-adda-4366854b73ff",
   "metadata": {
    "scrolled": true
   },
   "outputs": [
    {
     "data": {
      "text/html": [
       "<div>\n",
       "<style scoped>\n",
       "    .dataframe tbody tr th:only-of-type {\n",
       "        vertical-align: middle;\n",
       "    }\n",
       "\n",
       "    .dataframe tbody tr th {\n",
       "        vertical-align: top;\n",
       "    }\n",
       "\n",
       "    .dataframe thead th {\n",
       "        text-align: right;\n",
       "    }\n",
       "</style>\n",
       "<table border=\"1\" class=\"dataframe\">\n",
       "  <thead>\n",
       "    <tr style=\"text-align: right;\">\n",
       "      <th></th>\n",
       "      <th>0</th>\n",
       "      <th>1</th>\n",
       "      <th>weight</th>\n",
       "    </tr>\n",
       "  </thead>\n",
       "  <tbody>\n",
       "    <tr>\n",
       "      <th>516</th>\n",
       "      <td>최악</td>\n",
       "      <td>12687</td>\n",
       "      <td>-4.521554</td>\n",
       "    </tr>\n",
       "    <tr>\n",
       "      <th>205</th>\n",
       "      <td>쓰레기</td>\n",
       "      <td>8069</td>\n",
       "      <td>-4.143350</td>\n",
       "    </tr>\n",
       "    <tr>\n",
       "      <th>477</th>\n",
       "      <td>실망</td>\n",
       "      <td>7922</td>\n",
       "      <td>-3.697868</td>\n",
       "    </tr>\n",
       "    <tr>\n",
       "      <th>266</th>\n",
       "      <td>돈</td>\n",
       "      <td>3576</td>\n",
       "      <td>-3.306030</td>\n",
       "    </tr>\n",
       "    <tr>\n",
       "      <th>446</th>\n",
       "      <td>유치</td>\n",
       "      <td>9990</td>\n",
       "      <td>-2.931222</td>\n",
       "    </tr>\n",
       "    <tr>\n",
       "      <th>487</th>\n",
       "      <td>뭐</td>\n",
       "      <td>5078</td>\n",
       "      <td>-2.635933</td>\n",
       "    </tr>\n",
       "    <tr>\n",
       "      <th>620</th>\n",
       "      <td>이것</td>\n",
       "      <td>10162</td>\n",
       "      <td>-2.536037</td>\n",
       "    </tr>\n",
       "    <tr>\n",
       "      <th>385</th>\n",
       "      <td>짜증</td>\n",
       "      <td>12281</td>\n",
       "      <td>-2.530713</td>\n",
       "    </tr>\n",
       "    <tr>\n",
       "      <th>460</th>\n",
       "      <td>졸작</td>\n",
       "      <td>11720</td>\n",
       "      <td>-2.526076</td>\n",
       "    </tr>\n",
       "    <tr>\n",
       "      <th>746</th>\n",
       "      <td>어이</td>\n",
       "      <td>8610</td>\n",
       "      <td>-2.382379</td>\n",
       "    </tr>\n",
       "    <tr>\n",
       "      <th>326</th>\n",
       "      <td>감독</td>\n",
       "      <td>1029</td>\n",
       "      <td>-2.231162</td>\n",
       "    </tr>\n",
       "    <tr>\n",
       "      <th>1194</th>\n",
       "      <td>망</td>\n",
       "      <td>4552</td>\n",
       "      <td>-2.218638</td>\n",
       "    </tr>\n",
       "    <tr>\n",
       "      <th>1120</th>\n",
       "      <td>1점</td>\n",
       "      <td>253</td>\n",
       "      <td>-2.210366</td>\n",
       "    </tr>\n",
       "    <tr>\n",
       "      <th>241</th>\n",
       "      <td>알바</td>\n",
       "      <td>8333</td>\n",
       "      <td>-2.086031</td>\n",
       "    </tr>\n",
       "    <tr>\n",
       "      <th>93</th>\n",
       "      <td>허</td>\n",
       "      <td>14355</td>\n",
       "      <td>-2.069674</td>\n",
       "    </tr>\n",
       "    <tr>\n",
       "      <th>116</th>\n",
       "      <td>노</td>\n",
       "      <td>2934</td>\n",
       "      <td>-2.000122</td>\n",
       "    </tr>\n",
       "    <tr>\n",
       "      <th>46</th>\n",
       "      <td>별</td>\n",
       "      <td>5793</td>\n",
       "      <td>-1.990433</td>\n",
       "    </tr>\n",
       "    <tr>\n",
       "      <th>296</th>\n",
       "      <td>수준</td>\n",
       "      <td>7389</td>\n",
       "      <td>-1.982735</td>\n",
       "    </tr>\n",
       "    <tr>\n",
       "      <th>1201</th>\n",
       "      <td>어색</td>\n",
       "      <td>8598</td>\n",
       "      <td>-1.966110</td>\n",
       "    </tr>\n",
       "    <tr>\n",
       "      <th>208</th>\n",
       "      <td>시간</td>\n",
       "      <td>7695</td>\n",
       "      <td>-1.965775</td>\n",
       "    </tr>\n",
       "    <tr>\n",
       "      <th>129</th>\n",
       "      <td>밋</td>\n",
       "      <td>5267</td>\n",
       "      <td>1.882620</td>\n",
       "    </tr>\n",
       "    <tr>\n",
       "      <th>527</th>\n",
       "      <td>강추</td>\n",
       "      <td>1161</td>\n",
       "      <td>1.891507</td>\n",
       "    </tr>\n",
       "    <tr>\n",
       "      <th>240</th>\n",
       "      <td>매력</td>\n",
       "      <td>4584</td>\n",
       "      <td>1.892990</td>\n",
       "    </tr>\n",
       "    <tr>\n",
       "      <th>3021</th>\n",
       "      <td>소름</td>\n",
       "      <td>7166</td>\n",
       "      <td>1.898756</td>\n",
       "    </tr>\n",
       "    <tr>\n",
       "      <th>1748</th>\n",
       "      <td>번</td>\n",
       "      <td>5684</td>\n",
       "      <td>2.094302</td>\n",
       "    </tr>\n",
       "    <tr>\n",
       "      <th>573</th>\n",
       "      <td>대박</td>\n",
       "      <td>3348</td>\n",
       "      <td>2.117594</td>\n",
       "    </tr>\n",
       "    <tr>\n",
       "      <th>612</th>\n",
       "      <td>삶</td>\n",
       "      <td>6625</td>\n",
       "      <td>2.127910</td>\n",
       "    </tr>\n",
       "    <tr>\n",
       "      <th>262</th>\n",
       "      <td>10점</td>\n",
       "      <td>100</td>\n",
       "      <td>2.173450</td>\n",
       "    </tr>\n",
       "    <tr>\n",
       "      <th>301</th>\n",
       "      <td>사랑</td>\n",
       "      <td>6477</td>\n",
       "      <td>2.287011</td>\n",
       "    </tr>\n",
       "    <tr>\n",
       "      <th>1012</th>\n",
       "      <td>마음</td>\n",
       "      <td>4397</td>\n",
       "      <td>2.294693</td>\n",
       "    </tr>\n",
       "    <tr>\n",
       "      <th>1759</th>\n",
       "      <td>완벽</td>\n",
       "      <td>9493</td>\n",
       "      <td>2.325636</td>\n",
       "    </tr>\n",
       "    <tr>\n",
       "      <th>1124</th>\n",
       "      <td>굿</td>\n",
       "      <td>2084</td>\n",
       "      <td>2.346126</td>\n",
       "    </tr>\n",
       "    <tr>\n",
       "      <th>84</th>\n",
       "      <td>짱</td>\n",
       "      <td>12294</td>\n",
       "      <td>2.353850</td>\n",
       "    </tr>\n",
       "    <tr>\n",
       "      <th>119</th>\n",
       "      <td>감동</td>\n",
       "      <td>1050</td>\n",
       "      <td>2.527384</td>\n",
       "    </tr>\n",
       "    <tr>\n",
       "      <th>579</th>\n",
       "      <td>명작</td>\n",
       "      <td>4748</td>\n",
       "      <td>2.839277</td>\n",
       "    </tr>\n",
       "    <tr>\n",
       "      <th>961</th>\n",
       "      <td>감동적</td>\n",
       "      <td>1060</td>\n",
       "      <td>2.870650</td>\n",
       "    </tr>\n",
       "    <tr>\n",
       "      <th>694</th>\n",
       "      <td>여운</td>\n",
       "      <td>8862</td>\n",
       "      <td>2.896695</td>\n",
       "    </tr>\n",
       "    <tr>\n",
       "      <th>180</th>\n",
       "      <td>수작</td>\n",
       "      <td>7382</td>\n",
       "      <td>3.047286</td>\n",
       "    </tr>\n",
       "    <tr>\n",
       "      <th>348</th>\n",
       "      <td>가슴</td>\n",
       "      <td>919</td>\n",
       "      <td>3.273861</td>\n",
       "    </tr>\n",
       "    <tr>\n",
       "      <th>217</th>\n",
       "      <td>최고</td>\n",
       "      <td>12641</td>\n",
       "      <td>5.420388</td>\n",
       "    </tr>\n",
       "  </tbody>\n",
       "</table>\n",
       "</div>"
      ],
      "text/plain": [
       "        0      1    weight\n",
       "516    최악  12687 -4.521554\n",
       "205   쓰레기   8069 -4.143350\n",
       "477    실망   7922 -3.697868\n",
       "266     돈   3576 -3.306030\n",
       "446    유치   9990 -2.931222\n",
       "487     뭐   5078 -2.635933\n",
       "620    이것  10162 -2.536037\n",
       "385    짜증  12281 -2.530713\n",
       "460    졸작  11720 -2.526076\n",
       "746    어이   8610 -2.382379\n",
       "326    감독   1029 -2.231162\n",
       "1194    망   4552 -2.218638\n",
       "1120   1점    253 -2.210366\n",
       "241    알바   8333 -2.086031\n",
       "93      허  14355 -2.069674\n",
       "116     노   2934 -2.000122\n",
       "46      별   5793 -1.990433\n",
       "296    수준   7389 -1.982735\n",
       "1201   어색   8598 -1.966110\n",
       "208    시간   7695 -1.965775\n",
       "129     밋   5267  1.882620\n",
       "527    강추   1161  1.891507\n",
       "240    매력   4584  1.892990\n",
       "3021   소름   7166  1.898756\n",
       "1748    번   5684  2.094302\n",
       "573    대박   3348  2.117594\n",
       "612     삶   6625  2.127910\n",
       "262   10점    100  2.173450\n",
       "301    사랑   6477  2.287011\n",
       "1012   마음   4397  2.294693\n",
       "1759   완벽   9493  2.325636\n",
       "1124    굿   2084  2.346126\n",
       "84      짱  12294  2.353850\n",
       "119    감동   1050  2.527384\n",
       "579    명작   4748  2.839277\n",
       "961   감동적   1060  2.870650\n",
       "694    여운   8862  2.896695\n",
       "180    수작   7382  3.047286\n",
       "348    가슴    919  3.273861\n",
       "217    최고  12641  5.420388"
      ]
     },
     "execution_count": 93,
     "metadata": {},
     "output_type": "execute_result"
    }
   ],
   "source": [
    "#긍정/부정의 top20으로 dataframe 생성하기\n",
    "top20_df=pd.concat([df_sorted.head(20),df_sorted.tail(20)])\n",
    "top20_df"
   ]
  },
  {
   "cell_type": "code",
   "execution_count": 98,
   "id": "895e9199-38cd-4d4b-9bd5-d5274d377deb",
   "metadata": {},
   "outputs": [],
   "source": [
    "# 한글폰트 적용하기\n",
    "from matplotlib import font_manager, rc\n",
    "font_name = font_manager.FontProperties(fname=\"C:\\Windows\\Fonts\\malgun.ttf\").get_name()\n",
    "rc('font',family=font_name)\n",
    "\n",
    "# -기호 표시하기\n",
    "import matplotlib\n",
    "matplotlib.rcParams['axes.unicode_minus'] = False"
   ]
  },
  {
   "cell_type": "code",
   "execution_count": 97,
   "id": "31f4c908-61ae-4777-83ae-8ef738845a31",
   "metadata": {},
   "outputs": [],
   "source": [
    "import matplotlib.pyplot as plt"
   ]
  },
  {
   "cell_type": "code",
   "execution_count": 99,
   "id": "1c6ae633-6e27-4b62-ad58-672f25831835",
   "metadata": {},
   "outputs": [
    {
     "data": {
      "image/png": "[encoded data removed]",
      "text/plain": [
       "<Figure size 1500x500 with 1 Axes>"
      ]
     },
     "metadata": {},
     "output_type": "display_data"
    }
   ],
   "source": [
    "plt.figure(figsize=(15,5))\n",
    "plt.bar(top20_df[0],top20_df['weight'])\n",
    "plt.xticks(rotation=90)\n",
    "plt.show()"
   ]
  },
  {
   "cell_type": "code",
   "execution_count": null,
   "id": "ea37d028-1b25-4720-9e72-be7371779985",
   "metadata": {},
   "outputs": [],
   "source": []
  },
  {
   "cell_type": "code",
   "execution_count": null,
   "id": "8c2c326c-bb8e-49f1-a914-a9c7d103be90",
   "metadata": {},
   "outputs": [],
   "source": []
  },
  {
   "cell_type": "code",
   "execution_count": null,
   "id": "bfc8467e-e9b5-4d1f-89b5-4e3ce3bece34",
   "metadata": {},
   "outputs": [],
   "source": []
  },
  {
   "cell_type": "code",
   "execution_count": null,
   "id": "0b5bdcb0-fae6-433e-a698-d58e32ab65c3",
   "metadata": {},
   "outputs": [],
   "source": []
  }
 ],
 "metadata": {
  "kernelspec": {
   "display_name": "Python 3 (ipykernel)",
   "language": "python",
   "name": "python3"
  },
  "language_info": {
   "codemirror_mode": {
    "name": "ipython",
    "version": 3
   },
   "file_extension": ".py",
   "mimetype": "text/x-python",
   "name": "python",
   "nbconvert_exporter": "python",
   "pygments_lexer": "ipython3",
   "version": "3.8.18"
  }
 },
 "nbformat": 4,
 "nbformat_minor": 5
}
